{
 "cells": [
  {
   "cell_type": "markdown",
   "metadata": {},
   "source": [
    "# Practicum Testing\n",
    "Dit bestand bevat de practicumopgaven voor de module Testing van het vak Advanced Technical Programming (TCIT-VKATP-17). \n",
    "\n",
    "Een Jupyter Notebook bestaat uit cells met code of toelichting. Sommige code-cells hoeven enkel uitgevoerd te worden om functies beschikbaar te maken, anderen moet je zelf in vullen (opdrachten staan duidelijk met kopjes gemarkeerd, je moet dan zelf de delen met TODO invullen). Je kunt de code per cel uitvoeren door de cel te selecteren en \"run cell\" te kiezen. De cel direct hieronder laadt de nodige modules in. Als je code niet naar verwachting werkt kan het zijn dat je deze cell moet runnen, of een van de andere cels vóór de cel met error. Let erop dat als je de Jupyter-server afsluit en later verder gaat moet je deze cells opnieuw runnen."
   ]
  },
  {
   "cell_type": "code",
   "execution_count": null,
   "metadata": {
    "collapsed": true
   },
   "outputs": [],
   "source": [
    "from unittest import *    \n",
    "import doctest\n",
    "import io\n",
    "from contextlib import redirect_stdout"
   ]
  },
  {
   "cell_type": "markdown",
   "metadata": {},
   "source": [
    "__Opdrachten die zijn gemarkeerd met _[PORTFOLIO]_ dienen te worden opgenomen in je portfolio voor de eindopgave__.\n",
    "\n",
    "Laat deze opdrachten door je docent aftekenen aan het einde van de les (of aan het begin van de volgende les)."
   ]
  },
  {
   "cell_type": "markdown",
   "metadata": {},
   "source": [
    "***\n",
    "## College 1: Testen\n",
    "Deze opdrachten gaan over het college over testen en dienen aan het einde van dat college te worden gemaakt.\n",
    "\n",
    "### 1 — Unit Tests in Python\n",
    "Laten we aannemen dat we een simpele functie hebben in Python die we willen unittesten:"
   ]
  },
  {
   "cell_type": "code",
   "execution_count": null,
   "metadata": {
    "collapsed": true
   },
   "outputs": [],
   "source": [
    "def my_function():\n",
    "    print(\"Hello World!\")"
   ]
  },
  {
   "cell_type": "markdown",
   "metadata": {},
   "source": [
    "Evaluatie van deze functie is vrij simpel. We moeten een class maken die een uitbreiding is van het unittest framework (inheritence en classes worden verder uitgelegd in college 2). Binnen die class moeten we een methode maken die de output van de stdout haalt en vergelijkt met de verwachte uitvoer:"
   ]
  },
  {
   "cell_type": "code",
   "execution_count": null,
   "metadata": {
    "collapsed": true,
    "scrolled": true
   },
   "outputs": [],
   "source": [
    "class HelloWorldTest(TestCase):\n",
    "    def setUp(self):\n",
    "        self.out = io.StringIO()\n",
    "    \n",
    "    def test_hello_world(self): # het gebruik/de noodzaak van 'self' wordt in college 2 uitgelegd\n",
    "        with redirect_stdout(self.out): # gebruik self.out als stdout\n",
    "            my_function() # draai de functie\n",
    "        output = self.out.getvalue() # pak de uitvoer van de stdout\n",
    "        self.assertEqual(\"Hello World\\n\", output, \"You must print Hello World\")\n",
    "\n",
    "hwt = HelloWorldTest()                        # een simpelere manier van aanroepen is unittest.main() \n",
    "suite = TestLoader().loadTestsFromModule(hwt) # in plaats van deze drie regels, maar helaas werkt dat \n",
    "TextTestRunner().run(suite)                   # niet in IPython"
   ]
  },
  {
   "cell_type": "markdown",
   "metadata": {},
   "source": [
    "Pas de functie `my_function` aan om het probleem dat door de unit test wordt gesignaleerd te verhelpen.\n",
    "\n",
    "#### Opdracht 1.1.1 — Unittest\n",
    "Schrijf een unittest voor de functie `function_to_unittest` in de volgende code.\n",
    "\n",
    "De verwachte functionaliteit is:\n",
    "* Neemt een lijst als invoer;\n",
    "* Verandert negatieve getallen naar hun absolute waarde + 1;\n",
    "* Verwijdert alle oneven getallen die geen priemgetal zijn;\n",
    "* Sorteert de getallen in oplopende volgorde."
   ]
  },
  {
   "cell_type": "code",
   "execution_count": null,
   "metadata": {
    "collapsed": true
   },
   "outputs": [],
   "source": [
    "def function_to_unittest(list):\n",
    "    ordered = []\n",
    "    for item in list:\n",
    "        if item < 0:\n",
    "            item *= -1\n",
    "            item += 1\n",
    "            \n",
    "        if item % 2 == 1:\n",
    "            if not is_prime(item):\n",
    "                continue\n",
    "        ordered = insert(item, ordered)\n",
    "    return ordered\n",
    "\n",
    "\n",
    "def insert(item, list):\n",
    "    for index in range(0, len(list)):\n",
    "        if list[index] > item:\n",
    "            list.insert(index, item)\n",
    "            break\n",
    "    else:\n",
    "        list.append(item)\n",
    "\n",
    "    return list\n",
    "\n",
    "\n",
    "def is_prime(n):\n",
    "    if n < 1:\n",
    "        return False\n",
    "    elif n <= 3:\n",
    "        return True\n",
    "    elif n % 2 == 0 or n % 3 == 0:\n",
    "        return False\n",
    "    i = 5\n",
    "    while i * i <= n:\n",
    "        if n % i == 0 or n % (i + 2) == 0:\n",
    "            return False\n",
    "        i = i + 6\n",
    "    return True"
   ]
  },
  {
   "cell_type": "code",
   "execution_count": null,
   "metadata": {
    "collapsed": true
   },
   "outputs": [],
   "source": [
    "class ExerciseTest(TestCase):\n",
    "    def setUp(self):\n",
    "        #TODO schrijf hier globale dingen die nodig zijn voordat de tests gedraait gaan worden.\n",
    "        pass # Pass om syntax errors te voorkomen in de notebook\n",
    "\n",
    "    #TODO definieer hieronder je tests\n",
    "    # LET OP: de functies die je als tests schrijft moeten in de naam met 'test' beginnen!\n",
    "    def test_1(self): # voorbeeld\n",
    "        pass # Pass om syntax errors te voorkomen in de notebook\n",
    "            \n",
    "        \n",
    "test = ExerciseTest()\n",
    "suite = TestLoader().loadTestsFromModule(test)\n",
    "TextTestRunner().run(suite)"
   ]
  },
  {
   "cell_type": "markdown",
   "metadata": {},
   "source": [
    "Zie de [documentatie](https://docs.python.org/3.5/library/unittest.html) voor meer informatie over het unittest framework van Python."
   ]
  },
  {
   "cell_type": "markdown",
   "metadata": {},
   "source": [
    "### 2 — DocTest\n",
    "Python staat het ook toe om (kleine) tests op te nemen in de documentatie bij de functie definitie: dit heten DocTests.\n",
    "\n",
    "De functie hieronder heeft een doctest:"
   ]
  },
  {
   "cell_type": "code",
   "execution_count": null,
   "metadata": {
    "collapsed": true
   },
   "outputs": [],
   "source": [
    "def my_function():  \n",
    "    \"\"\"Doctest\n",
    "    >>> my_function()\n",
    "    Hello World\\n\n",
    "    \"\"\"\n",
    "    print(\"Hello World!\")\n",
    "\n",
    "doctest.testmod()"
   ]
  },
  {
   "cell_type": "markdown",
   "metadata": {},
   "source": [
    "#### Opdracht 1.2.1 — DocTest\n",
    "Voltooi de documentatie van de volgende functie met een doctest om te zorgen dat de functie correct werkt (zie specificatie in de documentatie).\n",
    "\n",
    "Los de fout(en) op in de functie. (Los ook de fout op in de vorige functie, anders blijft die je doctest vervuilen)."
   ]
  },
  {
   "cell_type": "code",
   "execution_count": null,
   "metadata": {
    "collapsed": true
   },
   "outputs": [],
   "source": [
    "def function_to_doctest(a):\n",
    "    \"\"\"\n",
    "    Deze functie neemt een reeks van getallen en sorteert deze in oplopende volgorde.\n",
    "    @param a de lijst om te sorteren\n",
    "    @return de gesorteerde variant van a\n",
    "    #TODO Insert DocTest\n",
    "    \"\"\"\n",
    "    for p in range(1,len(a)-1):\n",
    "        tmp = a[p]\n",
    "        j = p\n",
    "        while j > 1 and tmp < a[j-1]:\n",
    "            a[j] = a[j-1]\n",
    "            j -= 1\n",
    "        a[j] = tmp\n",
    "    return a\n",
    "\n",
    "doctest.testmod()"
   ]
  },
  {
   "cell_type": "markdown",
   "metadata": {},
   "source": [
    "Zie de [documentatie](https://docs.python.org/2/library/doctest.html) voor meer informatie over DocTests."
   ]
  },
  {
   "cell_type": "markdown",
   "metadata": {},
   "source": [
    "### 3 — Code Coverage\n",
    "Code coverage is een manier om ervoor te zorgen dat je tests daadwerkelijk je code testen. Als je tests draait ga je ervan uit dat je de verwachtte resultaten krijgt. Code coverage kan je vertellen hoeveel van je code je daadwerkelijk heb bekeken met het draaien van je test. Je tests kunnen allemaal slagen, maar als je maar 50% van je code hebt getest, hoeveel vertrouwen geeft dat dan in je test resultaat?\n",
    "\n",
    "Er zijn een aantal criteria die gebruikt kunnen worden om te zien hoe goed je tests je code dekt. The makkelijkste is statement coverage, welke je simpelweg vertelt dat of je alle statements in je code hebt gebruikt. \n",
    "\n",
    "Bij het werken met code coverage, en met testen in het algemeen, het is belangrijk om de volgende quote van Edsger Dijkstra te onthouden:\n",
    "\n",
    "> Testing never proves the absence of faults, it only shows their presence.\n",
    "  \n",
    "Het gebruik van code coverage is een manier om meer van het te testen gebied te dekken zodat we dichter komen bij het bewijzen dat er geen fouten in de code zitten, of tenminste dat bepaalde soorten fouten afwezig zijn.\n",
    "\n",
    "#### Statement Coverage\n",
    "Statement coverage is de meest basale vorm van code coverage. Een statement is covered als deze een keer is uitgevoerd. Merko op dat een statement niet noodzakelijk correspondeert met een lijn code. Meerdere statements op een enkele lijn kunnen voor verwarring zorgen als je issues rapporteerd.\n",
    "\n",
    "Als je functie geen branches bevat, is het vaak niet nodig om de executie van alle statements te tellen, de aanroep van de functie dekt immers alles (wat erin zit). \n",
    "\n",
    "Statement coverage kan worden bekeken met behulp van de Coverage module in Python (installeren met `pip3 install coverage`). Het uitvoeren hiervan op een file geeft je een nette statistiek van het gebruik.\n",
    "\n",
    "Gebruik `coverage run [filename]` om via coverage je Python programma (`filename` in dit geval) te starten. Coverage gaat dan na welke lines uit de code worden aanroepen tijdens het draaien van het programma.\n",
    "\n",
    "`coverage report` geeft je vervolgens een nette overzicht van de statement coverage van je programma, bijv. voor de simulator die we later in de werkcolleges gaan gebruiken:\n",
    "\n",
    "```\n",
    "Name            Stmts   Miss  Cover\n",
    "-----------------------------------\n",
    "Constants.py       17      0   100%\n",
    "Controller.py      19      3    84%\n",
    "Effector.py        36      0   100%\n",
    "Gui.py            216      9    96%\n",
    "Sensor.py          47      2    96%\n",
    "Simulator.py       63     14    78%\n",
    "Vessel.py          38      2    95%\n",
    "-----------------------------------\n",
    "TOTAL             436     30    93%\n",
    "```\n",
    "\n",
    "Deze methode van coverage is relatief zwak, en zelfs met 100% statement coverage kunnen er nog genoeg serieuze problemen in het programma zitten die niet ontdekt zijn. Toch is statement coverage een goede maat, om te zien hoeveel van de code werkelijk gebruikt wordt, en kan je helpen bij het prunen (weghalen) van ongebruikte code of code die maar zelden wordt gedraait (waar dus potentieel bugs in zitten omdat ze slecht getest worden door smoke en exploratory tests).\n",
    "\n",
    "Merk op dat code die specifiek bedoelt is voor het opvangen van Exceptions of die omgaat met zeldzame gevallen een lage statement coverage zullen hebben, maar daardoor niet minder belangrijk is."
   ]
  },
  {
   "cell_type": "markdown",
   "metadata": {},
   "source": [
    "#### Opdracht — 1.3.1\n",
    "Plaats de functies die hierboven zijn gebruikt om unittests te oefenen (opgave 1.1.1) in een Python file en draai `coverage run` en `coverage report` om te bepalen hoeveel statement coverage er is in de gebruikte code."
   ]
  },
  {
   "cell_type": "markdown",
   "metadata": {},
   "source": [
    "#### Branch Coverage\n",
    "Het doel van Branch coverage is om na te gaan dat als een programma een 'jump' maakt, het alle verschillende 'jumps' probeert (tijdens het testen). Een simpel voorbeeld is de volgende functie:"
   ]
  },
  {
   "cell_type": "code",
   "execution_count": null,
   "metadata": {
    "collapsed": true
   },
   "outputs": [],
   "source": [
    "def my_function(x):\n",
    "    if x:\n",
    "        print(\"a\")\n",
    "    else:\n",
    "        print(\"b\")\n",
    "\n",
    "my_function(True)"
   ]
  },
  {
   "cell_type": "markdown",
   "metadata": {},
   "source": [
    "Volledige coverage wordt hier alleen bereikt als `x` soms `True` en soms `False` is. Statement coverage toont in een simpel geval als deze hetzelfde resultaat, maar in het volgende voorbeeld niet:"
   ]
  },
  {
   "cell_type": "code",
   "execution_count": null,
   "metadata": {
    "collapsed": true
   },
   "outputs": [],
   "source": [
    "def my_function2(x):\n",
    "    if x:\n",
    "        d = 2\n",
    "    print(12 / d)\n",
    "    \n",
    "my_function2(True)"
   ]
  },
  {
   "cell_type": "markdown",
   "metadata": {},
   "source": [
    "Branch coverage geeft je extra informatie, zeker als `else` delen missen of als je gebruik maakt van een `switch` (in talen die dat toestaan. In het geval hierboven krijg je fouten als `x` is `False` (voor 100% statement coverage zou je alleen met `x = True` draaien).\n",
    "\n",
    "100% Branch coverage betekent overigens dat je ook 100% statement coverage hebt.\n",
    "\n",
    "De coverage module van Python kan ook branch coverage bepalen. Gebruik `coverage run --branch [filename]` om de branch coverage van een programma te bepalen:\n",
    "\n",
    "```\n",
    "Name            Stmts   Miss Branch BrPart  Cover\n",
    "-------------------------------------------------\n",
    "Constants.py       17      0      0      0   100%\n",
    "Controller.py      19      3     12      1    81%\n",
    "Effector.py        36      0     14      3    94%\n",
    "Gui.py            216     12     50      7    92%\n",
    "Sensor.py          47      2      6      3    91%\n",
    "Simulator.py       63     14     22      2    76%\n",
    "Vessel.py          38      2     10      3    90%\n",
    "-------------------------------------------------\n",
    "TOTAL             436     33    114     19    89%\n",
    "```"
   ]
  },
  {
   "cell_type": "markdown",
   "metadata": {},
   "source": [
    "#### Opdracht 1.3.2 — Branch coverage\n",
    "Bepaal de Branch coverage van het programma dat je hierboven gebruikt hebt om statement coverage te bepalen. Zijn er significante verschillen?"
   ]
  },
  {
   "cell_type": "markdown",
   "metadata": {},
   "source": [
    "#### Path Coverage\n",
    "Branch coverage is al vollediger dan statement coverage, maar mist nog een aantal gevallen. Neem bijvoorbeeld de volgende functie:"
   ]
  },
  {
   "cell_type": "code",
   "execution_count": null,
   "metadata": {
    "collapsed": true
   },
   "outputs": [],
   "source": [
    "def my_function3(x, y):\n",
    "    d = 0\n",
    "    if x:\n",
    "        d = 2\n",
    "    if y:\n",
    "        print(12 / d)\n",
    "\n",
    "my_function3(False, False)"
   ]
  },
  {
   "cell_type": "markdown",
   "metadata": {},
   "source": [
    "100% Branch coverage kan worden bereikt als beiden `x` en `y` gelijk zijn aan `True`, en als `x` en `y` beiden `False` zijn. De fout in de bovenstaande code wordt echter alleen maar zichtbaar als `x = False` en `y = True`.\n",
    "\n",
    "Het doel van Path Coverage is dat je probeert om alle paden door een programma te doorlopen. Merk op dat dit, voor een redelijk complex programma, al vrij gauw uit de klauwen loopt (denk aan de Cyclomatic Complexity maat). Het is overigens niet altijd mogelijk om 100% path coverage te behalen.\n",
    "\n",
    "100% Path Coverage betekent automatisch ook 100% Branch Coverage.\n",
    "\n",
    "#### Condition Coverage\n",
    "Er is nog een sterkere coverage variant, die alle mogelijke condities probeert te evalueren (om zodoende 100% path coverage te krijgen). Beschouw het volgende voorbeeld:"
   ]
  },
  {
   "cell_type": "code",
   "execution_count": null,
   "metadata": {
    "collapsed": true
   },
   "outputs": [],
   "source": [
    "def my_function4(x, y):\n",
    "    if x or y:\n",
    "        d = 0\n",
    "    else:\n",
    "        d = 2\n",
    "    print(12 / d)\n",
    "\n",
    "my_function4(False, False)"
   ]
  },
  {
   "cell_type": "markdown",
   "metadata": {},
   "source": [
    "Om volledige conditie coverage te krijgen moeten `x` en `y` beiden alle mogelijke waardes aannemen, terwijl path coverage al behaalt wordt met de combinaties `my_function4(True, True)` en `my_function4(False, False)`.\n",
    "\n",
    "Merk op dat in moderne talen de boolean operators vaak zijn geimplementeerd als `short-circuit operators`, wat betekent dat een `||` al tot `True` wordt geëvalueerd als de linkerzijde `True` bevat (het maakt dan immers niet meer uit of de rechterzijde `True` of `False` is). Hierdoor hoeven er maar 3 opties worden bekeken om 100% Condition Coverage te krijgen (`True || True` werkt immers hetzelfde als `True || False`; de overige opties zijn wel anders).\n",
    "\n",
    "#### Toepassing\n",
    "Het idee van code coverage is dat je een maat hebt die je kan gebruiken om te zien hoeveel van de code (van het programma dat je test) daadwerkelijk door de tests wordt 'bekeken'. Gebruik de volgende volgorde:\n",
    "1. Bedenk je nieuwe programma / functie / module / subroutine / etc.\n",
    "2. Schrijf de code.\n",
    "3. Schrijf de tests en documentatie.\n",
    "4. Draai de tests.\n",
    "5. Bepaal de coverage.\n",
    "6. Voeg tests toe en verbeter je code tot coverage voldoende is.\n",
    "\n",
    "Merk op, in Test-Driven Development doe je stappen 2 en 3 andersom. Voor beiden valt iets te zeggen.\n",
    "\n",
    "Het zou natuurlijk mooi zijn als we 100% coverage zouden halen op onze tests, maar dat lukt niet altijd (door het programma, de tijd, de werkdruk, etc.). Het ligt erg aan je toepassing, de markt, en je code met welk niveau van coverage je voldoening neemt. 90% branch coverage kan prima zijn, mits je begrijpt waarom je die andere 10% niet gedekt hebt.\n",
    "\n",
    "Om een duidelijk resultaat te krijgen van wat (niet) gedekt wordt kan je de Coverage module van Python gebruiken om een HTML rapport te genereren die exact aangeeft welke statements/branches niet gedekt zijn. Gebruik hiervoor `coverage html`. Dit genereert een htmlcov directory met daarin een index.html (en meer aanvullende files) met je rapport. Open die index.html en klik op een filenaam om de details van de coverage te zien.\n",
    "\n",
    "#### Opdracht 1.3.3 — Test Coverage \n",
    "Genereer het html rapport van de code van opdracht 1.1.1 en bepaal welke onderdelen je niet gedekt hebt. Schrijf hiervoor, indien mogelijk, de unittests om deze af te dekken.\n",
    "\n",
    "#### Opdracht 1.3.4 — Black-box testing\n",
    "De test die je hebt geschreven in 1.1.1 en 1.3.3 zijn 'white-box' tests, omdat de functionaliteiten die in de opdracht gegeven zijn gespecificeerd zijn op het niveau van de implementatie (ze beschrijven immers de stappen die worden ondernomen om de input te veranderen naar de output).\n",
    "\n",
    "In Black-box testing bepaal je niet zozeer of de stappen goed ondernomen zijn, maar dat het eindresultaat voldoet aan de wensen/eisen. Schrijf een black-box test voor de functie gegeven in 1.1.1.\n",
    "\n",
    "#### Practicumeindopgave — Testplan\n",
    "Schrijf samen met de andere leden van je team een testplan, inclusief teststrategie, voor het ontwikkelen van de Liquid Mixer zoals beschreven in de reader (hoofdstuk 6.1). Houd daarbij rekening met de verschillende fases van ontwikkeling (hoofdstuk 5) en welke tests op welke plek in de ontwikkeling de beste resultaten opleveren (hoofdstuk 2).  \n",
    "__Bekijk de eisen voor het testplan in de studentenhandleiding!__"
   ]
  },
  {
   "cell_type": "code",
   "execution_count": null,
   "metadata": {
    "collapsed": true
   },
   "outputs": [],
   "source": []
  }
 ],
 "metadata": {
  "kernelspec": {
   "display_name": "Python 3",
   "language": "python",
   "name": "python3"
  },
  "language_info": {
   "codemirror_mode": {
    "name": "ipython",
    "version": 3
   },
   "file_extension": ".py",
   "mimetype": "text/x-python",
   "name": "python",
   "nbconvert_exporter": "python",
   "pygments_lexer": "ipython3",
   "version": "3.6.1"
  }
 },
 "nbformat": 4,
 "nbformat_minor": 2
}
